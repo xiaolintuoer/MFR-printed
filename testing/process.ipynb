{
 "cells": [
  {
   "cell_type": "code",
   "execution_count": 6,
   "metadata": {},
   "outputs": [],
   "source": [
    "import cv2\n",
    "import numpy as np\n",
    "import os\n",
    "import matplotlib.pyplot as plt\n",
    "%matplotlib inline"
   ]
  },
  {
   "cell_type": "markdown",
   "metadata": {},
   "source": [
    "显示图片的函数"
   ]
  },
  {
   "cell_type": "code",
   "execution_count": 7,
   "metadata": {},
   "outputs": [],
   "source": [
    "def showImage(image):\n",
    "    if image is not None:\n",
    "        # 使用imshow显示图像\n",
    "        cv2.imshow('Image', image)\n",
    "\n",
    "        # 等待按键后关闭窗口，0表示无限等待，可以根据需要设置等待时间，单位为毫秒\n",
    "        cv2.waitKey(0)\n",
    "        cv2.destroyAllWindows()\n",
    "    else:\n",
    "        print('Error: Image could not be read!')"
   ]
  },
  {
   "cell_type": "markdown",
   "metadata": {},
   "source": [
    "消除图片中横线的函数"
   ]
  },
  {
   "cell_type": "code",
   "execution_count": 8,
   "metadata": {},
   "outputs": [],
   "source": [
    "def removeLines(image_path):\n",
    "    # 读取图像\n",
    "    image = cv2.imread(image_path)\n",
    "    gray_img = cv2.cvtColor(image, cv2.COLOR_BGR2GRAY)\n",
    "\n",
    "    # 预处理：提高对比度\n",
    "    equalized = cv2.equalizeHist(gray_img)\n",
    "\n",
    "    # 使用Canny算法检测边缘\n",
    "    edges = cv2.Canny(equalized, 50, 150, apertureSize=3)\n",
    "    \n",
    "    # 使用Hough变换检测直线，这里使用概率Hough变换，因为它对噪声更稳健\n",
    "    lines = cv2.HoughLinesP(edges, rho=1, theta=np.pi/180, threshold=100, minLineLength=100, maxLineGap=10)\n",
    "\n",
    "    if lines is not None:\n",
    "        # 创建一个与原图相同尺寸的空白掩码\n",
    "        mask = np.zeros_like(gray_img, dtype=np.uint8) # cv2.inpaint要求掩码图像格式为“单通道，8-bit”\n",
    "\n",
    "        # 标记横线位置\n",
    "        for line in lines:\n",
    "            x1, y1, x2, y2 = line[0]\n",
    "            cv2.line(mask, (x1,y1), (x2,y2), (255,255,255), 3)\n",
    "\n",
    "        # 应用inpainting技术去除横线\n",
    "        dst = cv2.inpaint(image, mask, 3, cv2.INPAINT_NS)\n",
    "    \n",
    "    else:\n",
    "        print(\"No horizontal line is detected.\")\n",
    "        dst = image\n",
    "\n",
    "    return dst"
   ]
  },
  {
   "cell_type": "markdown",
   "metadata": {},
   "source": [
    "读取测试用的样本"
   ]
  },
  {
   "cell_type": "code",
   "execution_count": 9,
   "metadata": {},
   "outputs": [],
   "source": [
    "# 获取指定目录下的所有文件或目录名\n",
    "dir_path = os.path.join('..', 'pics/test_data/test/normal')\n",
    "items = os.listdir(dir_path)\n",
    "\n",
    "# 存储图片文件名的列表\n",
    "image_path_list = []\n",
    "\n",
    "# 遍历所有项，挑选出图片文件\n",
    "for item in items:\n",
    "    item_path = os.path.join(dir_path, item)\n",
    "\n",
    "    # 判断是否为文件\n",
    "    if os.path.isfile(item_path):\n",
    "        image_path_list.append(item_path)"
   ]
  },
  {
   "cell_type": "code",
   "execution_count": 10,
   "metadata": {},
   "outputs": [
    {
     "name": "stdout",
     "output_type": "stream",
     "text": [
      "No horizontal line is detected.\n",
      "No horizontal line is detected.\n",
      "No horizontal line is detected.\n",
      "No horizontal line is detected.\n"
     ]
    }
   ],
   "source": [
    "i = 1\n",
    "for image in image_path_list:\n",
    "    image_removal = removeLines(image)\n",
    "    cv2.imwrite(f'./test_pics/output{i}.png', image_removal)\n",
    "    i += 1"
   ]
  },
  {
   "cell_type": "markdown",
   "metadata": {},
   "source": [
    "读取图片，转为灰度图片"
   ]
  },
  {
   "cell_type": "code",
   "execution_count": 41,
   "metadata": {},
   "outputs": [],
   "source": [
    "image_path = os.path.join('..', 'pics/handwritten', 'english.PNG')\n",
    "image = cv2.imread(image_path)"
   ]
  },
  {
   "cell_type": "code",
   "execution_count": 43,
   "metadata": {},
   "outputs": [],
   "source": [
    "im_gray = cv2.cvtColor(image, cv2.COLOR_BGR2GRAY)"
   ]
  },
  {
   "cell_type": "markdown",
   "metadata": {},
   "source": [
    "使用Canny算法检测边缘"
   ]
  },
  {
   "cell_type": "code",
   "execution_count": 44,
   "metadata": {},
   "outputs": [],
   "source": [
    "edges = cv2.Canny(im_gray, 100, 200, apertureSize=3)"
   ]
  },
  {
   "cell_type": "markdown",
   "metadata": {},
   "source": [
    "使用Hough变换检测直线"
   ]
  },
  {
   "cell_type": "code",
   "execution_count": 45,
   "metadata": {},
   "outputs": [],
   "source": [
    "lines = cv2.HoughLinesP(edges, 1, np.pi/180, threshold=80, minLineLength=50, maxLineGap=10)"
   ]
  },
  {
   "cell_type": "code",
   "execution_count": 46,
   "metadata": {},
   "outputs": [
    {
     "data": {
      "text/plain": [
       "array([[[ 67,  57, 313,  57]],\n",
       "\n",
       "       [[  3,  94,   3,   0]]], dtype=int32)"
      ]
     },
     "execution_count": 46,
     "metadata": {},
     "output_type": "execute_result"
    }
   ],
   "source": [
    "lines"
   ]
  },
  {
   "cell_type": "markdown",
   "metadata": {},
   "source": [
    "遍历检测到的直线，并将其标记为白色"
   ]
  },
  {
   "cell_type": "code",
   "execution_count": 49,
   "metadata": {},
   "outputs": [],
   "source": [
    "for line in lines:\n",
    "    x1, y1, x2, y2 = line[0]\n",
    "    cv2.line(image, (x1,y1), (x2,y2), (255,255,255), 3)\n",
    "    "
   ]
  }
 ],
 "metadata": {
  "kernelspec": {
   "display_name": "PyTorch",
   "language": "python",
   "name": "python3"
  },
  "language_info": {
   "codemirror_mode": {
    "name": "ipython",
    "version": 3
   },
   "file_extension": ".py",
   "mimetype": "text/x-python",
   "name": "python",
   "nbconvert_exporter": "python",
   "pygments_lexer": "ipython3",
   "version": "3.12.2"
  }
 },
 "nbformat": 4,
 "nbformat_minor": 2
}
