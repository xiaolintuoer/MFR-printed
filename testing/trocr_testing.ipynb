{
 "cells": [
  {
   "cell_type": "markdown",
   "metadata": {},
   "source": [
    "用自建的数据集测试pix2text的mfr模型的识别效果。\n",
    "* 要建立一套流程，批量测试\n",
    "* 要采取合适的指标来度量，不能“观察统计”"
   ]
  },
  {
   "cell_type": "code",
   "execution_count": 1,
   "metadata": {},
   "outputs": [
    {
     "name": "stderr",
     "output_type": "stream",
     "text": [
      "c:\\ProgramData\\anaconda3\\envs\\PyTorch\\Lib\\site-packages\\tqdm\\auto.py:21: TqdmWarning: IProgress not found. Please update jupyter and ipywidgets. See https://ipywidgets.readthedocs.io/en/stable/user_install.html\n",
      "  from .autonotebook import tqdm as notebook_tqdm\n"
     ]
    }
   ],
   "source": [
    "from PIL import Image\n",
    "from transformers import TrOCRProcessor\n",
    "from optimum.onnxruntime import ORTModelForVision2Seq\n",
    "\n",
    "import os"
   ]
  },
  {
   "cell_type": "code",
   "execution_count": 2,
   "metadata": {},
   "outputs": [],
   "source": [
    "model_path = 'C:/Users/EDY/Desktop/人工智能小组/印刷体公式识别/pix2tex-mfr'\n",
    "\n",
    "processor = TrOCRProcessor.from_pretrained(model_path)\n",
    "model = ORTModelForVision2Seq.from_pretrained(model_path, use_cache=False)"
   ]
  },
  {
   "cell_type": "markdown",
   "metadata": {},
   "source": [
    "用一些测试图片来测试新模型效果"
   ]
  },
  {
   "cell_type": "code",
   "execution_count": 3,
   "metadata": {},
   "outputs": [],
   "source": [
    "# 回到上一级目录，然后进入同级的pics目录中\n",
    "\n",
    "image_names = [f'{i}.png' for i in range(1,29)]\n",
    "image_path = [os.path.join('..', 'pics/printed', name) for name in image_names]\n",
    "images = [Image.open(path).convert('RGB') for path in image_path]"
   ]
  },
  {
   "cell_type": "code",
   "execution_count": 4,
   "metadata": {},
   "outputs": [],
   "source": [
    "pixel_values = processor(images=images, return_tensors='pt').pixel_values\n",
    "generated_ids = model.generate(pixel_values)\n",
    "generated_text = processor.batch_decode(generated_ids, skip_special_tokens=True)"
   ]
  },
  {
   "cell_type": "code",
   "execution_count": 8,
   "metadata": {},
   "outputs": [
    {
     "data": {
      "text/plain": [
       "tensor([  2,  37, 270, 466, 272, 268, 271, 279, 271, 268, 271, 269, 455, 271,\n",
       "        375, 270, 466, 282, 263, 567, 282, 263, 443, 279, 455,   2,   0,   0,\n",
       "          0,   0,   0,   0,   0,   0,   0,   0,   0,   0,   0,   0,   0,   0,\n",
       "          0,   0,   0,   0,   0,   0,   0,   0,   0,   0,   0,   0,   0,   0,\n",
       "          0,   0,   0,   0,   0,   0,   0,   0,   0,   0,   0,   0,   0,   0,\n",
       "          0,   0,   0,   0,   0,   0,   0,   0,   0,   0,   0,   0,   0,   0,\n",
       "          0,   0,   0,   0,   0,   0,   0,   0,   0,   0,   0,   0])"
      ]
     },
     "execution_count": 8,
     "metadata": {},
     "output_type": "execute_result"
    }
   ],
   "source": [
    "generated_ids[0]"
   ]
  },
  {
   "cell_type": "code",
   "execution_count": 15,
   "metadata": {},
   "outputs": [
    {
     "name": "stdout",
     "output_type": "stream",
     "text": [
      "text_1: A = \\{ - 1, 0, 1, 2 \\}, B = \\{ x \\mid x \\leq 0 \\}\n",
      "text_2: A \\cap B\n",
      "text_3: | \\frac { x ^ { 2 } } { a ^ { 2 } } \\! + \\! \\frac { y ^ { 2 } } { b ^ { 2 } } \\! = \\! 1 ( a \\! > \\! b \\! > \\! 0 )\n",
      "text_4: f \\left( x \\right) = 2 \\operatorname { s i n } \\biggr ( 2 x + \\frac { \\pi } { 6 } \\biggr )\n",
      "text_5: \\mathrm { A. ~ } m ^ { 2 } \\! < \\! n ^ { 2 } \\qquad \\qquad \\mathrm { B. ~ } \\frac { 1 } { n } \\! < \\! \\frac { 1 } { m } \\qquad \\qquad \\mathrm { C. ~ } 2 ^ { n } \\! < \\! 2 ^ { n } \\qquad \\qquad \\mathrm { D. ~ l g m \\! < \\! l g n }\n",
      "text_6: m ^ { 2 } \\! \\smile \\! n ^ { 2 }\n",
      "text_7: 2 ^ { m } \\! < \\! 2 ^ { n }\n",
      "text_8: \\mathrm { C } _ { 3 } ^ { 1 } \\, \\mathrm { C } _ { 4 9 } ^ { 1 }\n",
      "text_9: a \\perp b\n",
      "text_10: c = \\sqrt { 3 } \\;, b = 1 \\;, B = 3 0 ^ { \\circ }\n",
      "text_11: f ( x ) \\! = \\! 2 \\operatorname { s i n } ( \\omega x + \\varphi ) \\, ( \\omega \\! > \\! 0, 0 \\! < \\! \\varphi \\! < \\! \\pi )\n",
      "text_12: \\left\\{ \\frac 4 { a _ { n } a _ { n + 1 } } \\right\\}\n",
      "text_13: \\{ ( x, y ) \\, | \\, x \\in \\{ 1, 2 \\} \\,, y \\in \\{ 1 \\,, 2 \\} \\}\n",
      "text_14: A = \\{ x \\mid y = \\sqrt { x ^ { 2 } - 1 } \\, \\} \\,, B = \\{ y \\mid y = \\sqrt { x ^ { 2 } - 1 } \\, \\}\n",
      "text_15: ( - \\infty, - 1 ] \\bigcup [ 1, + \\infty )\n",
      "text_16: f ( x ) \\! = \\! \\cos x \\, \\bullet \\, \\cos \\! \\left( x \\! - \\! \\frac { \\pi } { 3 } \\right)\n",
      "text_17: 3 ^ { \\operatorname { l o g } _ { 3 } 2 } + \\mathrm { l g } ~ { \\frac { 1 } { 2 } } - \\mathrm { l g } 5\n",
      "text_18: 2 ^ { 2 x } - 4 \\bullet \\, 2 ^ { x } + 3 = 0\n",
      "text_19: y = \\pm \\frac { \\sqrt { 6 } } { 2 } x\n",
      "text_20: f ( x ) \\! = \\! \\left\\{ \\! \\! \\begin{array} { l } { \\sqrt { x } \\,, \\! 0 \\! < \\! x \\! < \\! 1 \\,, } \\\\ { 2 ( x \\! - \\! 1 ) \\,, \\! x \\! \\geq \\! 1 \\,, } \\\\ \\end{array} \\right.\n",
      "text_21: \\mathop { y } = \\frac { \\sqrt { x ^ { 2 } - 7 x + 6 } } { \\sqrt { x - 2 } }\n",
      "text_22: \\operatorname { l g } \\! 4 + \\operatorname { l g } \\! 2 5 + 9 ^ { \\frac { 1 } { 3 } } \\times \\sp 3 \\o \\! \\sqrt { 3 } =\n",
      "text_23: f ( x ) \\! = \\! \\begin{cases} { \\operatorname { l o g } _ { 2 } ( 1 \\! - \\! x ) \\,, x \\! < \\! 1 \\,, } \\\\ { 3 ^ { x } \\! - \\! 1 0 \\,, \\! x \\! \\geq \\! 1 \\,, } \\\\ \\end{cases}\n",
      "text_24: \\frac { \\operatorname { s i n } ^ { 2 } \\alpha + 2 \\operatorname { c o s } ^ { 2 } \\alpha } { 3 \\operatorname { s i n } \\alpha \\operatorname { c o s } \\alpha }\n",
      "text_25: \\frac { x - 1 } { x - 2 } \\geq 0\n",
      "text_26: \\{ x \\, | \\, x { \\leq } 1 \\not \\index { x \\geq } 2 \\}\n",
      "text_27: f ( \\, x \\, ) \\! = \\! \\left\\{ \\! \\! \\begin{array} { l } { 2 x ^ { 2 } \\! + \\! 1 \\,, x \\! \\leq \\! 1 \\,, } \\\\ { 2 ^ { x - 2 } \\,, x \\! > \\! 1 \\,, } \\\\ \\end{array} \\right.\n",
      "text_28: a = \\! 2 ^ { \\frac { 1 } { 2 } } \\,, b = \\! 3 ^ { \\frac { 1 } { 3 } } \\,, c = \\! \\log _ { 0, 2 } 0. 5\n"
     ]
    }
   ],
   "source": [
    "texts = [f'text_{i}: {generated_text[i-1]}' for i in range(1, len(generated_text)+1)]\n",
    "for i in texts:\n",
    "    print(i)"
   ]
  },
  {
   "cell_type": "markdown",
   "metadata": {},
   "source": [
    "1. $A = \\{ - 1, 0, 1, 2 \\}, B = \\{ x \\mid x \\leq 0 \\}$\n",
    "2. $A \\cap B$\n",
    "3. $| \\frac { x ^ { 2 } } { a ^ { 2 } } \\! + \\! \\frac { y ^ { 2 } } { b ^ { 2 } } \\! = \\! 1 ( a \\! > \\! b \\! > \\! 0 )$\n",
    "4. $f \\left( x \\right) = 2 \\operatorname { s i n } \\biggr ( 2 x + \\frac { \\pi } { 6 } \\biggr )$\n",
    "5. $\\mathrm { A. ~ } m ^ { 2 } \\! < \\! n ^ { 2 } \\qquad \\qquad \\mathrm { B. ~ } \\frac { 1 } { n } \\! < \\! \\frac { 1 } { m } \\qquad \\qquad \\mathrm { C. ~ } 2 ^ { n } \\! < \\! 2 ^ { n } \\qquad \\qquad \\mathrm { D. ~ l g m \\! < \\! l g n }$\n",
    "6. $m ^ { 2 } \\! \\smile \\! n ^ { 2 }$\n",
    "7. $2 ^ { m } \\! < \\! 2 ^ { n }$\n",
    "8. $\\mathrm { C } _ { 3 } ^ { 1 } \\, \\mathrm { C } _ { 4 9 } ^ { 1 }$\n",
    "9. $a \\perp b$\n",
    "10. $c = \\sqrt { 3 } \\;, b = 1 \\;, B = 3 0 ^ { \\circ }$\n",
    "11. $f ( x ) \\! = \\! 2 \\operatorname { s i n } ( \\omega x + \\varphi ) \\, ( \\omega \\! > \\! 0, 0 \\! < \\! \\varphi \\! < \\! \\pi )$\n",
    "12. $\\left\\{ \\frac 4 { a _ { n } a _ { n + 1 } } \\right\\}$\n",
    "13. $\\{ ( x, y ) \\, | \\, x \\in \\{ 1, 2 \\} \\,, y \\in \\{ 1 \\,, 2 \\} \\}$\n",
    "14. $A = \\{ x \\mid y = \\sqrt { x ^ { 2 } - 1 } \\, \\} \\,, B = \\{ y \\mid y = \\sqrt { x ^ { 2 } - 1 } \\, \\}$\n",
    "15. $( - \\infty, - 1 ] \\cup [ 1, + \\infty )$\n",
    "16. $f ( x ) \\! = \\! \\cos x \\, \\bullet \\, \\cos \\! \\left( x \\! - \\! \\frac { \\pi } { 3 } \\right)$\n",
    "17. $3 ^ { \\operatorname { l o g } _ { 3 } 2 } + \\mathrm { l g } ~ { \\frac { 1 } { 2 } } - \\mathrm { l g } 5$\n",
    "18. $2 ^ { 2 x } - 4 \\bullet \\, 2 ^ { x } + 3 = 0$\n",
    "19. $y = \\pm \\frac { \\sqrt { 6 } } { 2 } x$\n",
    "20. $f ( x ) \\! = \\! \\left\\{ \\! \\! \\begin{array} { l } { \\sqrt { x } \\,, \\! 0 \\! < \\! x \\! < \\! 1 \\,, } \\\\ { 2 ( x \\! - \\! 1 ) \\,, \\! x \\! \\geq \\! 1 \\,, } \\\\ \\end{array} \\right.$\n",
    "21. $\\mathop { y } = \\frac { \\sqrt { x ^ { 2 } - 7 x + 6 } } { \\sqrt { x - 2 } }$\n",
    "22. $\\operatorname { l g } \\! 4 + \\operatorname { l g } \\! 2 5 + 9 ^ { \\frac { 1 } { 3 } } \\times \\sp 3 \\o \\! \\sqrt { 3 } =$\n",
    "23. $f ( x ) \\! = \\! \\begin{cases} { \\operatorname { l o g } _ { 2 } ( 1 \\! - \\! x ) \\,, x \\! < \\! 1 \\,, } \\\\ { 3 ^ { x } \\! - \\! 1 0 \\,, \\! x \\! \\geq \\! 1 \\,, } \\\\ \\end{cases}$\n",
    "24. $\\frac { \\operatorname { s i n } ^ { 2 } \\alpha + 2 \\operatorname { c o s } ^ { 2 } \\alpha } { 3 \\operatorname { s i n } \\alpha \\operatorname { c o s } \\alpha }$\n",
    "25. $\\frac { x - 1 } { x - 2 } \\geq 0$\n",
    "26. $\\{ x \\, | \\, x { \\leq } 1 \\not \\index { x \\geq } 2 \\}$\n",
    "27. $f ( \\, x \\, ) \\! = \\! \\left\\{ \\! \\! \\begin{array} { l } { 2 x ^ { 2 } \\! + \\! 1 \\,, x \\! \\leq \\! 1 \\,, } \\\\ { 2 ^ { x - 2 } \\,, x \\! > \\! 1 \\,, } \\\\ \\end{array} \\right.$\n",
    "28. $a = \\! 2 ^ { \\frac { 1 } { 2 } } \\,, b = \\! 3 ^ { \\frac { 1 } { 3 } } \\,, c = \\! \\log _ { 0, 2 } 0. 5$"
   ]
  },
  {
   "cell_type": "markdown",
   "metadata": {},
   "source": [
    "查看tokenizer的词表"
   ]
  },
  {
   "cell_type": "code",
   "execution_count": 3,
   "metadata": {},
   "outputs": [],
   "source": [
    "import json\n",
    "\n",
    "json_path = os.path.join('..', 'pix2tex-mfr', 'tokenizer.json')\n",
    "with open(json_path, 'r') as fp:\n",
    "    data = json.load(fp)"
   ]
  },
  {
   "cell_type": "code",
   "execution_count": 5,
   "metadata": {},
   "outputs": [
    {
     "data": {
      "text/plain": [
       "dict"
      ]
     },
     "execution_count": 5,
     "metadata": {},
     "output_type": "execute_result"
    }
   ],
   "source": [
    "type(data)"
   ]
  },
  {
   "cell_type": "code",
   "execution_count": 10,
   "metadata": {},
   "outputs": [
    {
     "data": {
      "text/plain": [
       "True"
      ]
     },
     "execution_count": 10,
     "metadata": {},
     "output_type": "execute_result"
    }
   ],
   "source": [
    "'bigcap' in data['model']['vocab'].keys()"
   ]
  }
 ],
 "metadata": {
  "kernelspec": {
   "display_name": "PyTorch",
   "language": "python",
   "name": "python3"
  },
  "language_info": {
   "codemirror_mode": {
    "name": "ipython",
    "version": 3
   },
   "file_extension": ".py",
   "mimetype": "text/x-python",
   "name": "python",
   "nbconvert_exporter": "python",
   "pygments_lexer": "ipython3",
   "version": "3.12.2"
  }
 },
 "nbformat": 4,
 "nbformat_minor": 2
}
